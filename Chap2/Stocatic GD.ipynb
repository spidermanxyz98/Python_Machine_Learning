{
 "cells": [
  {
   "cell_type": "code",
   "execution_count": 82,
   "metadata": {
    "collapsed": true
   },
   "outputs": [],
   "source": [
    "import numpy as np\n",
    "import pandas as pd\n",
    "import matplotlib.pyplot as plt\n",
    "%matplotlib inline"
   ]
  },
  {
   "cell_type": "code",
   "execution_count": 115,
   "metadata": {
    "collapsed": true
   },
   "outputs": [],
   "source": [
    "class SGD(object):\n",
    "    \n",
    "    def __init__(self, eta=0.0001, n_iter=200, initial_w=False):\n",
    "        self.eta=eta\n",
    "        self.n_iter=n_iter\n",
    "        self.initial_w=initial_w\n",
    "        \n",
    "    def fit(self, X, y):\n",
    "        if not self.initial_w:\n",
    "            self.initialize_w(X.shape[1])\n",
    "        self.cost_=[]\n",
    "        for i in range(self.n_iter):\n",
    "            #shuffle the order of the samples to avoid close circle\n",
    "            X_r, y_r=self.shuffle(X,y)\n",
    "            cost=0\n",
    "            \n",
    "            for x, target in zip(X_r,y_r):\n",
    "                #update w for every sample\n",
    "                cost+=self.update_w(x,target)\n",
    "            self.cost_.append(cost/len(y))\n",
    "        return self\n",
    "    \n",
    "    def update_w(self, x, target):\n",
    "        output=self.net_input(x)\n",
    "        error=(target-output)\n",
    "        self.w[1:]+=self.eta*x.dot(error)\n",
    "        self.w[0]+=self.eta*error\n",
    "        cost=0.5*error*error\n",
    "        return cost\n",
    "    \n",
    "    def initialize_w(self, n_features):\n",
    "        self.w=np.zeros((n_features+1))\n",
    "        self.initial_w=True\n",
    "        \n",
    "    def net_input(self,X):\n",
    "        return X.dot(self.w[1:])+self.w[0]\n",
    "    \n",
    "    def activation(self, X):\n",
    "        return self.net_input(X)\n",
    "    \n",
    "    def prediction(self, X):\n",
    "        return np.where(self.activation(X)>0.0, 1, -1)\n",
    "    \n",
    "    def shuffle(self, X, y):\n",
    "        r=np.random.permutation(len(y))\n",
    "        return X[r], y[r]\n",
    "        "
   ]
  },
  {
   "cell_type": "code",
   "execution_count": 117,
   "metadata": {
    "collapsed": false
   },
   "outputs": [],
   "source": [
    "data=pd.read_csv(\"https://archive.ics.uci.edu/ml/machine-learning-databases/iris/iris.data\",\n",
    "                header=None)\n",
    "X=data.iloc[0:100, [0,2]].values\n",
    "X[:,0]=(X[:,0]-X[:,0].mean())/X[:,0].std()\n",
    "X[:,1]=(X[:,1]-X[:,1].mean())/X[:,1].std()\n",
    "y=data.iloc[0:100, 4].values\n",
    "y=np.where(y=='Iris-setosa',1,-1)"
   ]
  },
  {
   "cell_type": "code",
   "execution_count": 119,
   "metadata": {
    "collapsed": false
   },
   "outputs": [
    {
     "data": {
      "text/plain": [
       "<matplotlib.collections.PathCollection at 0x7f9ac02a11d0>"
      ]
     },
     "execution_count": 119,
     "metadata": {},
     "output_type": "execute_result"
    },
    {
     "data": {
      "image/png": "[encoded data removed]",
      "text/plain": [
       "<matplotlib.figure.Figure at 0x7f9ac0363978>"
      ]
     },
     "metadata": {},
     "output_type": "display_data"
    }
   ],
   "source": [
    "model= SGD(eta=0.01, n_iter=15)\n",
    "model.fit(X,y)\n",
    "pre=model.prediction(X)\n",
    "plt.scatter(range(15), model.cost_)"
   ]
  },
  {
   "cell_type": "code",
   "execution_count": 120,
   "metadata": {
    "collapsed": false
   },
   "outputs": [
    {
     "data": {
      "text/plain": [
       "<matplotlib.collections.PathCollection at 0x7f9ac0203c18>"
      ]
     },
     "execution_count": 120,
     "metadata": {},
     "output_type": "execute_result"
    },
    {
     "data": {
      "image/png": "[encoded data removed]",
      "text/plain": [
       "<matplotlib.figure.Figure at 0x7f9ac06e5c50>"
      ]
     },
     "metadata": {},
     "output_type": "display_data"
    }
   ],
   "source": [
    "x1_min, x1_max = X[:,0].min()-0.1, X[:,0].max()+0.1\n",
    "x2_min, x2_max = X[:,1].min()-0.1, X[:,0].max()+0.1\n",
    "resolution=0.01\n",
    "xx1, xx2 = np.meshgrid(np.arange(x1_min, x1_max, resolution), np.arange(x2_min, x2_max, resolution))\n",
    "z=model.prediction(np.array([xx1.ravel(),xx2.ravel()]).T)\n",
    "z=z.reshape(xx1.shape)\n",
    "plt.contourf(xx1,xx2,z, alpha=0.4)\n",
    "\n",
    "plt.scatter(X[y==1,0], X[y==1,1],color='r')\n",
    "plt.scatter(X[y==-1,0], X[y==-1,1], color='b')"
   ]
  },
  {
   "cell_type": "code",
   "execution_count": null,
   "metadata": {
    "collapsed": true
   },
   "outputs": [],
   "source": []
  }
 ],
 "metadata": {
  "anaconda-cloud": {},
  "kernelspec": {
   "display_name": "Python [Root]",
   "language": "python",
   "name": "Python [Root]"
  },
  "language_info": {
   "codemirror_mode": {
    "name": "ipython",
    "version": 3
   },
   "file_extension": ".py",
   "mimetype": "text/x-python",
   "name": "python",
   "nbconvert_exporter": "python",
   "pygments_lexer": "ipython3",
   "version": "3.5.2"
  }
 },
 "nbformat": 4,
 "nbformat_minor": 0
}
